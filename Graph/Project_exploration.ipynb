{
  "nbformat": 4,
  "nbformat_minor": 0,
  "metadata": {
    "colab": {
      "name": "Project_exploration.ipynb",
      "provenance": [],
      "collapsed_sections": [],
      "machine_shape": "hm"
    },
    "kernelspec": {
      "name": "python3",
      "display_name": "Python 3"
    },
    "language_info": {
      "name": "python"
    }
  },
  "cells": [
    {
      "cell_type": "markdown",
      "source": [
        "# Project Assignment:  Amazon products dataset"
      ],
      "metadata": {
        "id": "So9t3SVs7z0A"
      }
    },
    {
      "cell_type": "markdown",
      "source": [
        "## Students\n",
        "\n",
        "* Team: `9`\n",
        "* Students: `Mateja Ilić & Miloš Novaković` (for the team submission)"
      ],
      "metadata": {
        "id": "NjwwHBr-JblQ"
      }
    },
    {
      "cell_type": "markdown",
      "source": [
        "## Part 1: Dataset exploration\n",
        "\n",
        "The main goal of our project is to perform a graph classification task on the Amazon Products dataset. However, for a better understanding of the dataset, what it represents and what we can do with it, it is always useful to use the various tools we have from graph theory and network science to explore the network underlying our data.\n",
        "\n",
        "The Amazon Products dataset is a projection of a bipartite graph, whose one part contains nodes that represent users and whose other part contains products. The users and products are connected with an edge, if the user bought the product. The projection of this graph on the product part gives us a graph of 1,569,960 nodes, that are connected with 264,339,468 edges. In other words, two nodes are connected if users that bought one, also bought the other.\n",
        "\n",
        "Each product node also comes with a feature vector $x\\in\\mathbb{R}^{200}$, which is an SVM-reduced vector of a much larger vector of 4-gram word counts from the reviews of the product. Each nodes is also labeled with zero or more of the 107 product category labels. A training, testing and validation mask is provided to divide up the node feature and label data when training and testing our models.\n",
        "\n",
        "This part of the project will focus more on the underlying network, than on the provided node features and labels."
      ],
      "metadata": {
        "id": "Qk0vwf-2_d39"
      }
    },
    {
      "cell_type": "code",
      "execution_count": 1,
      "metadata": {
        "id": "CNq-dcdj7sZ9",
        "colab": {
          "base_uri": "https://localhost:8080/"
        },
        "outputId": "9405a0b3-ffc7-4c88-dc63-e116a8e2b292"
      },
      "outputs": [
        {
          "output_type": "stream",
          "name": "stdout",
          "text": [
            "Looking in indexes: https://pypi.org/simple, https://us-python.pkg.dev/colab-wheels/public/simple/\n",
            "Looking in links: https://data.pyg.org/whl/torch-1.11.0+cu113.html\n",
            "Requirement already satisfied: torch-scatter in /usr/local/lib/python3.7/dist-packages (2.0.9)\n",
            "Requirement already satisfied: torch-sparse in /usr/local/lib/python3.7/dist-packages (0.6.13)\n",
            "Requirement already satisfied: torch-cluster in /usr/local/lib/python3.7/dist-packages (1.6.0)\n",
            "Requirement already satisfied: torch-geometric in /usr/local/lib/python3.7/dist-packages (2.0.4)\n",
            "Requirement already satisfied: scipy in /usr/local/lib/python3.7/dist-packages (from torch-sparse) (1.4.1)\n",
            "Requirement already satisfied: scikit-learn in /usr/local/lib/python3.7/dist-packages (from torch-geometric) (1.0.2)\n",
            "Requirement already satisfied: jinja2 in /usr/local/lib/python3.7/dist-packages (from torch-geometric) (2.11.3)\n",
            "Requirement already satisfied: numpy in /usr/local/lib/python3.7/dist-packages (from torch-geometric) (1.21.6)\n",
            "Requirement already satisfied: requests in /usr/local/lib/python3.7/dist-packages (from torch-geometric) (2.23.0)\n",
            "Requirement already satisfied: tqdm in /usr/local/lib/python3.7/dist-packages (from torch-geometric) (4.64.0)\n",
            "Requirement already satisfied: pandas in /usr/local/lib/python3.7/dist-packages (from torch-geometric) (1.3.5)\n",
            "Requirement already satisfied: pyparsing in /usr/local/lib/python3.7/dist-packages (from torch-geometric) (3.0.9)\n",
            "Requirement already satisfied: MarkupSafe>=0.23 in /usr/local/lib/python3.7/dist-packages (from jinja2->torch-geometric) (2.0.1)\n",
            "Requirement already satisfied: python-dateutil>=2.7.3 in /usr/local/lib/python3.7/dist-packages (from pandas->torch-geometric) (2.8.2)\n",
            "Requirement already satisfied: pytz>=2017.3 in /usr/local/lib/python3.7/dist-packages (from pandas->torch-geometric) (2022.1)\n",
            "Requirement already satisfied: six>=1.5 in /usr/local/lib/python3.7/dist-packages (from python-dateutil>=2.7.3->pandas->torch-geometric) (1.15.0)\n",
            "Requirement already satisfied: chardet<4,>=3.0.2 in /usr/local/lib/python3.7/dist-packages (from requests->torch-geometric) (3.0.4)\n",
            "Requirement already satisfied: urllib3!=1.25.0,!=1.25.1,<1.26,>=1.21.1 in /usr/local/lib/python3.7/dist-packages (from requests->torch-geometric) (1.24.3)\n",
            "Requirement already satisfied: idna<3,>=2.5 in /usr/local/lib/python3.7/dist-packages (from requests->torch-geometric) (2.10)\n",
            "Requirement already satisfied: certifi>=2017.4.17 in /usr/local/lib/python3.7/dist-packages (from requests->torch-geometric) (2022.5.18.1)\n",
            "Requirement already satisfied: threadpoolctl>=2.0.0 in /usr/local/lib/python3.7/dist-packages (from scikit-learn->torch-geometric) (3.1.0)\n",
            "Requirement already satisfied: joblib>=0.11 in /usr/local/lib/python3.7/dist-packages (from scikit-learn->torch-geometric) (1.1.0)\n"
          ]
        }
      ],
      "source": [
        "# downloading the necessary packages\n",
        "!pip install torch-scatter torch-sparse torch-cluster torch-geometric -f https://data.pyg.org/whl/torch-1.11.0+cu113.html"
      ]
    },
    {
      "cell_type": "code",
      "source": [
        "# importing the necessary packages and classes\n",
        "import networkx as nx\n",
        "from torch import nn\n",
        "import torch_geometric as pyg\n",
        "from torch_geometric.data import Data\n",
        "from torch_geometric.datasets import AmazonProducts\n",
        "import matplotlib.pyplot as plt\n",
        "import numpy as np\n",
        "import time"
      ],
      "metadata": {
        "id": "F8OD8PS08_9d"
      },
      "execution_count": 2,
      "outputs": []
    },
    {
      "cell_type": "code",
      "source": [
        "# upload your code to your Google Drive to import the data automatically\n",
        "from google.colab import drive\n",
        "drive.mount('/content/drive')\n",
        "data_folder_path = '/content/drive/MyDrive/data/NML_Final_Project/'"
      ],
      "metadata": {
        "colab": {
          "base_uri": "https://localhost:8080/"
        },
        "id": "Fo0fa-MYMDSK",
        "outputId": "3783dcf4-beff-46f6-b962-339df4917855"
      },
      "execution_count": 3,
      "outputs": [
        {
          "output_type": "stream",
          "name": "stdout",
          "text": [
            "Drive already mounted at /content/drive; to attempt to forcibly remount, call drive.mount(\"/content/drive\", force_remount=True).\n"
          ]
        }
      ]
    },
    {
      "cell_type": "code",
      "source": [
        "# we load the data set\n",
        "dataset = AmazonProducts(root=data_folder_path)\n",
        "# in this case, we save only the edge index to save on space\n",
        "edge_index = dataset[0].edge_index.numpy()\n",
        "del dataset\n",
        "print(edge_index)"
      ],
      "metadata": {
        "colab": {
          "base_uri": "https://localhost:8080/"
        },
        "id": "FHO-cCKrmCod",
        "outputId": "299cda15-d38a-4328-931c-54d805cd8d0d"
      },
      "execution_count": 4,
      "outputs": [
        {
          "output_type": "stream",
          "name": "stdout",
          "text": [
            "tensor([[      0,       0,       0,  ..., 1569958, 1569959, 1569959],\n",
            "        [      0,   83053,  210735,  ..., 1569958, 1178338, 1569959]])\n"
          ]
        }
      ]
    },
    {
      "cell_type": "markdown",
      "source": [
        "## Global graph properties\n",
        "\n",
        "To start, let's load our graph into networkX."
      ],
      "metadata": {
        "id": "NwlMepHgGL6y"
      }
    },
    {
      "cell_type": "code",
      "source": [
        "# we implement a custom class to further reduce the memory footprint of the networkX graph\n",
        "class ThinGraph(nx.Graph):\n",
        "    all_edge_dict = {\"weight\": 1}\n",
        "\n",
        "    def single_edge_dict(self):\n",
        "        return self.all_edge_dict\n",
        "\n",
        "    edge_attr_dict_factory = single_edge_dict\n",
        "\n",
        "G = ThinGraph()\n",
        "for e in range(edge_index.shape[1]):\n",
        "  G.add_edge(edge_index[0,e], edge_index[1,e])"
      ],
      "metadata": {
        "id": "7y8gotYtYlks"
      },
      "execution_count": 9,
      "outputs": []
    },
    {
      "cell_type": "markdown",
      "source": [
        "### Basic graph properties:"
      ],
      "metadata": {
        "id": "hRSeaE2TIAba"
      }
    },
    {
      "cell_type": "code",
      "source": [
        "print('Number of nodes: {}, Number of edges: {}'. format(G.number_of_nodes(), G.number_of_edges()))\n",
        "print('Number of self-loops: {}, Number of connected components: {}'. format(nx.number_of_selfloops(G), nx.number_connected_components(G)))"
      ],
      "metadata": {
        "colab": {
          "base_uri": "https://localhost:8080/"
        },
        "id": "5N9N5ijggU2l",
        "outputId": "90d33082-2fad-4f1f-84c8-21ba9da1f056"
      },
      "execution_count": 10,
      "outputs": [
        {
          "output_type": "stream",
          "name": "stdout",
          "text": [
            "Number of nodes: 1569960, Number of edges: 132954714\n",
            "Number of self-loops: 1569960, Number of connected components: 492143\n"
          ]
        }
      ]
    },
    {
      "cell_type": "markdown",
      "source": [
        "We instatiated our Graph object as an instance of a regular graph subclass, instead of a digraph, because it is easier to manipulate. This is somewhat of an approximation, as we can see that our number of edges is slightly higher than 50% of the original number of edges in `edge_index`. However, working the numbers out shows that only around 0.29% of edges weren't bi-directional, so we consider the approximation to be appropriate in this case."
      ],
      "metadata": {
        "id": "b9c3uVtzuLOQ"
      }
    },
    {
      "cell_type": "markdown",
      "source": [
        "### Sparsity:"
      ],
      "metadata": {
        "id": "Z1PA8MrZpeB_"
      }
    },
    {
      "cell_type": "code",
      "source": [
        "print('Graph average degree: {}'. format(2*G.number_of_edges()/G.number_of_nodes()))"
      ],
      "metadata": {
        "colab": {
          "base_uri": "https://localhost:8080/"
        },
        "id": "_v9EJnr-rSem",
        "outputId": "133e2f2d-91e2-4072-e6ac-9f9fea328e32"
      },
      "execution_count": 12,
      "outputs": [
        {
          "output_type": "stream",
          "name": "stdout",
          "text": [
            "Graph average degree: 169.37337766567302\n"
          ]
        }
      ]
    },
    {
      "cell_type": "markdown",
      "source": [
        "As we can see, the average degree of our graph is 4 orders of magnitude smaller than the number of nodes in the graph, i.e. $<k>\\ll N$. From this we can say with confidence that our graph is sparse."
      ],
      "metadata": {
        "id": "FYXambKctvPc"
      }
    },
    {
      "cell_type": "markdown",
      "source": [
        "### Giant component:\n",
        "\n",
        "Since we have a lot of connected components in our graph, let's check out the scale of the largest one to get a further feel for the type of network we are working with:"
      ],
      "metadata": {
        "id": "mSP5rCFRzdkd"
      }
    },
    {
      "cell_type": "code",
      "source": [
        "giant_component = G.subgraph(max(nx.connected_components(G), key=len)) # Your code here.\n",
        "print('The giant component of the citation graph has {} nodes and {} edges.'.format(giant_component.number_of_nodes(), giant_component.size()))"
      ],
      "metadata": {
        "colab": {
          "base_uri": "https://localhost:8080/"
        },
        "id": "zR9lHg3dsw8c",
        "outputId": "031e34ea-1d16-43e5-a73a-fe7bdb16b29f"
      },
      "execution_count": 13,
      "outputs": [
        {
          "output_type": "stream",
          "name": "stdout",
          "text": [
            "The giant component of the citation graph has 1066627 nodes and 132430138 edges.\n"
          ]
        }
      ]
    },
    {
      "cell_type": "markdown",
      "source": [
        "The giant component contains ~67.94% of the nodes but ~99.6% of the edges. This means that most of the other components basically just consist of isolated nodes. In the context of our dataset, these nodes represent products for which there was not enough data to link with other products.\n",
        "\n",
        "Let's check the diameter of the giant component:"
      ],
      "metadata": {
        "id": "jbAhcsxL3w5c"
      }
    },
    {
      "cell_type": "code",
      "source": [
        "print('Diameter of the giant component: {}'.format(nx.algorithms.approximation.distance_measures.diameter(giant_component)))"
      ],
      "metadata": {
        "colab": {
          "base_uri": "https://localhost:8080/"
        },
        "id": "3gCoS9BRz5y_",
        "outputId": "cb019268-b026-467b-e57c-85d4ce800ec1"
      },
      "execution_count": 15,
      "outputs": [
        {
          "output_type": "stream",
          "name": "stdout",
          "text": [
            "Diameter of the giant component: 19\n"
          ]
        }
      ]
    },
    {
      "cell_type": "markdown",
      "source": [
        "Since the giant component subgraph was too big for a brute force diameter computation, we decided to use an [approximate procedure](https://networkx.org/documentation/stable/reference/algorithms/generated/networkx.algorithms.approximation.distance_measures.diameter.html#r1a85b65cb0d3-1) that computes a lower bound on the (sub)graph diameter. We can see that, compared to its size, the giant component is fairly well connected, having a lower bound diameter of just 19. Since our graph is sparse, that means that our graph propably contains some large hubs through which many of the shortest paths go through."
      ],
      "metadata": {
        "id": "_9z45-9MJ_k6"
      }
    },
    {
      "cell_type": "markdown",
      "source": [
        "### Degree distribution:\n",
        "\n",
        "The above calculations gave us some indication about the type of network we are dealing with. To elucidate this even better, let's take a look at the degree distribution ouf our graph:"
      ],
      "metadata": {
        "id": "MHHwj1ZOLZT7"
      }
    },
    {
      "cell_type": "code",
      "source": [
        "degree_sequence = sorted((d for n, d in G.degree()), reverse=True)\n",
        "print('The top 10 hubs have degrees of: {}'.format(degree_sequence[:10]))"
      ],
      "metadata": {
        "colab": {
          "base_uri": "https://localhost:8080/"
        },
        "id": "1a8ZjbvP5eRc",
        "outputId": "58b6125d-6cad-4bd1-b859-c15ad42c383a"
      },
      "execution_count": 18,
      "outputs": [
        {
          "output_type": "stream",
          "name": "stdout",
          "text": [
            "The top 10 hubs have degrees of: [75135, 62409, 53409, 52950, 49801, 49446, 49384, 46101, 44767, 44677]\n"
          ]
        }
      ]
    },
    {
      "cell_type": "code",
      "source": [
        "_, bins = np.histogram(np.log10(degree_sequence), bins=100)\n",
        "fig = plt.figure(figsize=(9, 6))\n",
        "ax0 = fig.add_subplot()\n",
        "deg_hist_normalization = np.ones(1569960) / 1569960\n",
        "ax0.hist(degree_sequence, log=True, bins=10**bins, weights=deg_hist_normalization)\n",
        "plt.gca().set_xscale(\"log\")\n",
        "ax0.set_title('Degree distribution of Amazon Products graph')\n",
        "ax0.set_xlabel(\"Degree\")\n",
        "ax0.set_ylabel(\"# of Nodes\")\n",
        "fig.tight_layout()"
      ],
      "metadata": {
        "colab": {
          "base_uri": "https://localhost:8080/",
          "height": 441
        },
        "id": "95_FcllQMsSB",
        "outputId": "daf16a92-7681-4d75-98eb-ddec2425ccf5"
      },
      "execution_count": 51,
      "outputs": [
        {
          "output_type": "display_data",
          "data": {
            "text/plain": [
              "<Figure size 648x432 with 1 Axes>"
            ],
            "image/png": "[encoded data removed]"
          },
          "metadata": {
            "needs_background": "light"
          }
        }
      ]
    },
    {
      "cell_type": "markdown",
      "source": [
        "From the histogram we can see that the degree distribution is closer to an exponential-type distribution than a power-law distribution. Most of the nodes have very low degrees, even lower than $<k>$, while only a very small proportion of nodes have very high degrees. However, the exponential drop in high degree node frequency is much less steep than what we're used to when modeling high node count random networks with a Poisson distribution.\n",
        "\n",
        "In other words, our network doesn't fit well with either the random network or the scale-free network model family."
      ],
      "metadata": {
        "id": "FHKN04JxQXDg"
      }
    },
    {
      "cell_type": "markdown",
      "source": [
        "## Label distribution\n",
        "\n",
        "In order to get a grasp on the classification task itself, it is useful to check out the label distribution. We will see how to handle multi-class, multi-label exlporation problems in the exploitation part of the project."
      ],
      "metadata": {
        "id": "LGMd4slhtosm"
      }
    },
    {
      "cell_type": "code",
      "source": [
        "# we reload the data set to explore the labels\n",
        "dataset = AmazonProducts(root=data_folder_path)\n",
        "y = dataset[0].y.numpy()\n",
        "del dataset"
      ],
      "metadata": {
        "id": "7aLPnJumdwgO"
      },
      "execution_count": 53,
      "outputs": []
    },
    {
      "cell_type": "code",
      "source": [
        "fig = plt.figure(figsize=(9, 6))\n",
        "ax0 = fig.add_subplot()\n",
        "ax0.bar([i for i in range(107)], y.sum(axis=0))\n",
        "ax0.set_title('Class label distribution of Amazon Products graph')\n",
        "ax0.set_xlabel(\"Product category\")\n",
        "ax0.set_ylabel(\"# of Nodes\")\n",
        "fig.tight_layout()"
      ],
      "metadata": {
        "colab": {
          "base_uri": "https://localhost:8080/",
          "height": 441
        },
        "id": "CzULCg35toJ4",
        "outputId": "a16bd564-003f-41d8-ca63-110cf71e0284"
      },
      "execution_count": 56,
      "outputs": [
        {
          "output_type": "display_data",
          "data": {
            "text/plain": [
              "<Figure size 648x432 with 1 Axes>"
            ],
            "image/png": "[encoded data removed]"
          },
          "metadata": {
            "needs_background": "light"
          }
        }
      ]
    },
    {
      "cell_type": "code",
      "source": [
        ""
      ],
      "metadata": {
        "id": "TV9q4qZrulb3"
      },
      "execution_count": null,
      "outputs": []
    }
  ]
}