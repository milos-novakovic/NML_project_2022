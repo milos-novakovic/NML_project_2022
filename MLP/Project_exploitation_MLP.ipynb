{
  "nbformat": 4,
  "nbformat_minor": 0,
  "metadata": {
    "colab": {
      "name": "Project_exploitation_MLP.ipynb",
      "provenance": [],
      "collapsed_sections": []
    },
    "kernelspec": {
      "name": "python3",
      "display_name": "Python 3"
    },
    "language_info": {
      "name": "python"
    },
    "accelerator": "GPU"
  },
  "cells": [
    {
      "cell_type": "markdown",
      "source": [
        "# Project Assignment:  Amazon products dataset"
      ],
      "metadata": {
        "id": "So9t3SVs7z0A"
      }
    },
    {
      "cell_type": "markdown",
      "source": [
        "## Students\n",
        "\n",
        "* Team: `9`\n",
        "* Students: `Mateja Ilić & Miloš Novaković` (for the team submission)"
      ],
      "metadata": {
        "id": "NjwwHBr-JblQ"
      }
    },
    {
      "cell_type": "markdown",
      "source": [
        "## Part 2.1. Establishing a baseline\n",
        "\n",
        "In order to see how our Graph-based learning algorithms compare to conventional Machine Learning models, we establish a baseline performance based on a simple Multi-Layer-Perceptron (MLP) architecture. To keep the comparison fair, we shall set the number of hidden layers and hidden dimensions to the same values in all Neural Network-like models, if possible."
      ],
      "metadata": {
        "id": "rNmlBaR0iTH6"
      }
    },
    {
      "cell_type": "code",
      "execution_count": null,
      "metadata": {
        "id": "CNq-dcdj7sZ9",
        "colab": {
          "base_uri": "https://localhost:8080/"
        },
        "outputId": "2db3bd02-65d1-4365-bec4-46f615279bf8"
      },
      "outputs": [
        {
          "output_type": "stream",
          "name": "stdout",
          "text": [
            "Looking in indexes: https://pypi.org/simple, https://us-python.pkg.dev/colab-wheels/public/simple/\n",
            "Looking in links: https://data.pyg.org/whl/torch-1.11.0+cu113.html\n",
            "Collecting torch-scatter\n",
            "  Downloading https://data.pyg.org/whl/torch-1.11.0%2Bcu113/torch_scatter-2.0.9-cp37-cp37m-linux_x86_64.whl (7.9 MB)\n",
            "\u001b[K     |████████████████████████████████| 7.9 MB 11.8 MB/s \n",
            "\u001b[?25hCollecting torch-sparse\n",
            "  Downloading https://data.pyg.org/whl/torch-1.11.0%2Bcu113/torch_sparse-0.6.13-cp37-cp37m-linux_x86_64.whl (3.5 MB)\n",
            "\u001b[K     |████████████████████████████████| 3.5 MB 32.1 MB/s \n",
            "\u001b[?25hCollecting torch-cluster\n",
            "  Downloading https://data.pyg.org/whl/torch-1.11.0%2Bcu113/torch_cluster-1.6.0-cp37-cp37m-linux_x86_64.whl (2.5 MB)\n",
            "\u001b[K     |████████████████████████████████| 2.5 MB 17.3 MB/s \n",
            "\u001b[?25hCollecting torch-geometric\n",
            "  Downloading torch_geometric-2.0.4.tar.gz (407 kB)\n",
            "\u001b[K     |████████████████████████████████| 407 kB 10.6 MB/s \n",
            "\u001b[?25hRequirement already satisfied: scipy in /usr/local/lib/python3.7/dist-packages (from torch-sparse) (1.4.1)\n",
            "Requirement already satisfied: tqdm in /usr/local/lib/python3.7/dist-packages (from torch-geometric) (4.64.0)\n",
            "Requirement already satisfied: numpy in /usr/local/lib/python3.7/dist-packages (from torch-geometric) (1.21.6)\n",
            "Requirement already satisfied: pandas in /usr/local/lib/python3.7/dist-packages (from torch-geometric) (1.3.5)\n",
            "Requirement already satisfied: jinja2 in /usr/local/lib/python3.7/dist-packages (from torch-geometric) (2.11.3)\n",
            "Requirement already satisfied: requests in /usr/local/lib/python3.7/dist-packages (from torch-geometric) (2.23.0)\n",
            "Requirement already satisfied: pyparsing in /usr/local/lib/python3.7/dist-packages (from torch-geometric) (3.0.9)\n",
            "Requirement already satisfied: scikit-learn in /usr/local/lib/python3.7/dist-packages (from torch-geometric) (1.0.2)\n",
            "Requirement already satisfied: MarkupSafe>=0.23 in /usr/local/lib/python3.7/dist-packages (from jinja2->torch-geometric) (2.0.1)\n",
            "Requirement already satisfied: python-dateutil>=2.7.3 in /usr/local/lib/python3.7/dist-packages (from pandas->torch-geometric) (2.8.2)\n",
            "Requirement already satisfied: pytz>=2017.3 in /usr/local/lib/python3.7/dist-packages (from pandas->torch-geometric) (2022.1)\n",
            "Requirement already satisfied: six>=1.5 in /usr/local/lib/python3.7/dist-packages (from python-dateutil>=2.7.3->pandas->torch-geometric) (1.15.0)\n",
            "Requirement already satisfied: idna<3,>=2.5 in /usr/local/lib/python3.7/dist-packages (from requests->torch-geometric) (2.10)\n",
            "Requirement already satisfied: chardet<4,>=3.0.2 in /usr/local/lib/python3.7/dist-packages (from requests->torch-geometric) (3.0.4)\n",
            "Requirement already satisfied: urllib3!=1.25.0,!=1.25.1,<1.26,>=1.21.1 in /usr/local/lib/python3.7/dist-packages (from requests->torch-geometric) (1.24.3)\n",
            "Requirement already satisfied: certifi>=2017.4.17 in /usr/local/lib/python3.7/dist-packages (from requests->torch-geometric) (2022.5.18.1)\n",
            "Requirement already satisfied: threadpoolctl>=2.0.0 in /usr/local/lib/python3.7/dist-packages (from scikit-learn->torch-geometric) (3.1.0)\n",
            "Requirement already satisfied: joblib>=0.11 in /usr/local/lib/python3.7/dist-packages (from scikit-learn->torch-geometric) (1.1.0)\n",
            "Building wheels for collected packages: torch-geometric\n",
            "  Building wheel for torch-geometric (setup.py) ... \u001b[?25l\u001b[?25hdone\n",
            "  Created wheel for torch-geometric: filename=torch_geometric-2.0.4-py3-none-any.whl size=616603 sha256=c38c775eaf6d5fda939e4fc08864583d701dd8f46ef77f577c1ef026946ff404\n",
            "  Stored in directory: /root/.cache/pip/wheels/18/a6/a4/ca18c3051fcead866fe7b85700ee2240d883562a1bc70ce421\n",
            "Successfully built torch-geometric\n",
            "Installing collected packages: torch-sparse, torch-scatter, torch-geometric, torch-cluster\n",
            "Successfully installed torch-cluster-1.6.0 torch-geometric-2.0.4 torch-scatter-2.0.9 torch-sparse-0.6.13\n",
            "Looking in indexes: https://pypi.org/simple, https://us-python.pkg.dev/colab-wheels/public/simple/\n",
            "Collecting torchmetrics\n",
            "  Downloading torchmetrics-0.9.0-py3-none-any.whl (418 kB)\n",
            "\u001b[K     |████████████████████████████████| 418 kB 12.9 MB/s \n",
            "\u001b[?25hRequirement already satisfied: packaging in /usr/local/lib/python3.7/dist-packages (from torchmetrics) (21.3)\n",
            "Requirement already satisfied: typing-extensions in /usr/local/lib/python3.7/dist-packages (from torchmetrics) (4.2.0)\n",
            "Requirement already satisfied: numpy>=1.17.2 in /usr/local/lib/python3.7/dist-packages (from torchmetrics) (1.21.6)\n",
            "Requirement already satisfied: torch>=1.3.1 in /usr/local/lib/python3.7/dist-packages (from torchmetrics) (1.11.0+cu113)\n",
            "Requirement already satisfied: pyparsing!=3.0.5,>=2.0.2 in /usr/local/lib/python3.7/dist-packages (from packaging->torchmetrics) (3.0.9)\n",
            "Installing collected packages: torchmetrics\n",
            "Successfully installed torchmetrics-0.9.0\n"
          ]
        }
      ],
      "source": [
        "# downloading the necessary packages\n",
        "!pip install torch-scatter torch-sparse torch-cluster torch-geometric -f https://data.pyg.org/whl/torch-1.11.0+cu113.html\n",
        "!pip install torchmetrics"
      ]
    },
    {
      "cell_type": "code",
      "source": [
        "# importing the necessary packages and classes\n",
        "import torch\n",
        "import torch.nn.functional as F\n",
        "from torch import nn\n",
        "import torch_geometric as pyg\n",
        "from torch_geometric.data import Data\n",
        "from torch_geometric.datasets import AmazonProducts\n",
        "import torchmetrics\n",
        "import matplotlib.pyplot as plt\n",
        "import numpy as np\n",
        "import time"
      ],
      "metadata": {
        "id": "F8OD8PS08_9d"
      },
      "execution_count": null,
      "outputs": []
    },
    {
      "cell_type": "code",
      "execution_count": null,
      "metadata": {
        "id": "X-cJyFlRFFyD",
        "colab": {
          "base_uri": "https://localhost:8080/"
        },
        "outputId": "c2bfe116-5f3e-4e5d-a396-bea3208c4a9d"
      },
      "outputs": [
        {
          "output_type": "stream",
          "name": "stdout",
          "text": [
            "The device used is cuda.\n"
          ]
        }
      ],
      "source": [
        "if torch.cuda.is_available():\n",
        "    device = 'cuda'\n",
        "else:\n",
        "    print(\"No GPU :(\")\n",
        "    device = 'cpu'\n",
        "\n",
        "print(f\"The device used is {device}.\")"
      ]
    },
    {
      "cell_type": "code",
      "source": [
        "# upload your code to your Google Drive to import the data automatically\n",
        "from google.colab import drive\n",
        "drive.mount('/content/drive')\n",
        "data_folder_path = '/content/drive/MyDrive/data/NML_Final_Project/'"
      ],
      "metadata": {
        "colab": {
          "base_uri": "https://localhost:8080/"
        },
        "id": "Fo0fa-MYMDSK",
        "outputId": "2ccee873-0676-4f83-dbb9-2356337c3605"
      },
      "execution_count": null,
      "outputs": [
        {
          "output_type": "stream",
          "name": "stdout",
          "text": [
            "Mounted at /content/drive\n"
          ]
        }
      ]
    },
    {
      "cell_type": "code",
      "source": [
        "# we load the dataset\n",
        "dataset = AmazonProducts(root=data_folder_path)\n",
        "data = dataset[0]\n",
        "# in this case, we delete the graph data because it is not needed\n",
        "del data.edge_index\n",
        "print(data)"
      ],
      "metadata": {
        "colab": {
          "base_uri": "https://localhost:8080/"
        },
        "id": "FHO-cCKrmCod",
        "outputId": "c224a3d8-3932-4a2d-e982-a323bf62ba6b"
      },
      "execution_count": null,
      "outputs": [
        {
          "output_type": "stream",
          "name": "stdout",
          "text": [
            "Data(x=[1569960, 200], y=[1569960, 107], train_mask=[1569960], val_mask=[1569960], test_mask=[1569960])\n"
          ]
        }
      ]
    },
    {
      "cell_type": "code",
      "source": [
        "num_nodes = data.x.shape[0]\n",
        "num_features = data.x.shape[1]\n",
        "num_classes = data.y.shape[1]\n",
        "num_edges = data.num_edges\n",
        "num_edge_features = data.num_edge_features\n",
        "\n",
        "print(f\"Feature X matrix \\n {data.x}\", end = \"\\n\\n\")\n",
        "print(f\"Feature X matrix shape \\n {(data.x.shape[0], data.x.shape[1])}\", end = \"\\n------------------------------------------------------------------\\n\")\n",
        "print(f\"Label Y matrix \\n {data.y}\", end = \"\\n\\n\")\n",
        "print(f\"Label Y matrix shape \\n {(data.y.shape[0], data.y.shape[1])}\", end = \"\\n------------------------------------------------------------------\\n\")\n",
        "print(f\"Number of nodes N = {num_nodes}\", end = \"\\n\\n\")\n",
        "print(f\"Number of node features D = {num_features}\", end = \"\\n\\n\")\n",
        "print(f\"Number of label classes C = {num_classes}\", end = \"\\n\\n\")"
      ],
      "metadata": {
        "colab": {
          "base_uri": "https://localhost:8080/"
        },
        "id": "Q1dPspy9SRFu",
        "outputId": "44e60f5b-dcb1-4037-a2ec-0215424fa67b"
      },
      "execution_count": null,
      "outputs": [
        {
          "output_type": "stream",
          "name": "stdout",
          "text": [
            "Feature X matrix \n",
            " tensor([[-0.1466,  0.2226, -0.3597,  ...,  0.1699,  0.8974,  1.6527],\n",
            "        [-0.2805,  0.0190,  0.4301,  ..., -1.1758, -1.8365, -1.1693],\n",
            "        [ 0.2554,  0.2519, -0.0291,  ...,  1.3751, -0.0735,  0.6262],\n",
            "        ...,\n",
            "        [-0.8121,  0.3626, -0.7781,  ...,  0.0639,  0.8645,  0.0389],\n",
            "        [ 1.5977, -2.3989, -0.0569,  ..., -1.4413,  0.2966,  0.0985],\n",
            "        [-0.1663,  0.0629, -0.0474,  ...,  0.1853, -0.1216, -0.9181]])\n",
            "\n",
            "Feature X matrix shape \n",
            " (1569960, 200)\n",
            "------------------------------------------------------------------\n",
            "Label Y matrix \n",
            " tensor([[0, 0, 0,  ..., 0, 0, 0],\n",
            "        [0, 0, 0,  ..., 0, 0, 0],\n",
            "        [0, 0, 0,  ..., 0, 0, 0],\n",
            "        ...,\n",
            "        [0, 0, 0,  ..., 0, 0, 0],\n",
            "        [0, 0, 0,  ..., 0, 0, 0],\n",
            "        [0, 0, 0,  ..., 0, 0, 0]])\n",
            "\n",
            "Label Y matrix shape \n",
            " (1569960, 107)\n",
            "------------------------------------------------------------------\n",
            "Number of nodes N = 1569960\n",
            "\n",
            "Number of node features D = 200\n",
            "\n",
            "Number of label classes C = 107\n",
            "\n"
          ]
        }
      ]
    },
    {
      "cell_type": "markdown",
      "source": [
        "### Notes on the architecture and training:\n",
        "\n",
        "If we want to label our nodes according to which of the 107 categories they belong to, what we get is a multi-class, multi-label, classification problem. For such problems, it is recommended to set the activation function of the output layer as the sigmoid function, which will return values in the (0,1) range. These values can then be interpreted as probabilities and compared to the known outputs in the training data using the binary cross-entropy loss funtction."
      ],
      "metadata": {
        "id": "OaC18jJajPyN"
      }
    },
    {
      "cell_type": "code",
      "source": [
        "# we define our MLP architecture with 1 hidden layer\n",
        "hidden_dim1 = 512\n",
        "hidden_dim2 = 512\n",
        "\n",
        "class MLP(nn.Module):\n",
        "    def __init__(self, dropout):\n",
        "        super().__init__()\n",
        "        self.W1 = torch.nn.Linear(num_features, hidden_dim1)\n",
        "        self.W2 = torch.nn.Linear(hidden_dim1, hidden_dim2)\n",
        "        self.W3 = torch.nn.Linear(hidden_dim2, num_classes)\n",
        "        if dropout:\n",
        "            self.dropout1 = torch.nn.Dropout(p=0.1)\n",
        "            self.dropout2 = torch.nn.Dropout(p=0.5)\n",
        "            self.dropout3 = torch.nn.Dropout(p=0.5)\n",
        "\n",
        "        self.dropout = dropout\n",
        "\n",
        "    def forward(self, x):\n",
        "        if self.dropout:\n",
        "            x = self.dropout1(F.relu(self.W1(x)))\n",
        "            x = self.dropout2(F.relu(self.W2(x)))\n",
        "            x = self.dropout4(self.W3(x))\n",
        "        else:\n",
        "            x = F.relu(self.W1(x))\n",
        "            x = F.relu(self.W2(x))\n",
        "            x = self.W3(x)\n",
        "        return torch.sigmoid(x) "
      ],
      "metadata": {
        "id": "N3A3THn8VFXy"
      },
      "execution_count": null,
      "outputs": []
    },
    {
      "cell_type": "code",
      "source": [
        "def train(\n",
        "    model: nn.Module,\n",
        "    data: Data,\n",
        "    optimizer: torch.optim.Optimizer,\n",
        "    nb_epochs: int):\n",
        "    \n",
        "    # puts the model on the device and in the training state\n",
        "    model.to(device)\n",
        "    model.train()\n",
        "\n",
        "    # container to save the losses for plotting\n",
        "    losses = []\n",
        "\n",
        "    for epoch in range(nb_epochs):\n",
        "      optimizer.zero_grad()\n",
        "      \n",
        "      # forward pass of the model generates the prediction\n",
        "      y_pred = model(data.x[data.train_mask].to(device))\n",
        "      \n",
        "      # calcualting the loss\n",
        "      loss = F.binary_cross_entropy(input = y_pred,\n",
        "                                    target = data.y[data.train_mask].to(device, dtype=torch.float))\n",
        "      \n",
        "      # after each calculation of loss function, save it to losses\n",
        "      losses.append(loss.item())\n",
        "      \n",
        "      # backward pass (updating the gradients of the parameters of our model)\n",
        "      loss.backward()\n",
        "      \n",
        "      # update of the parameters according to the chosen optimizer\n",
        "      optimizer.step()\n",
        "\n",
        "    return losses\n",
        "\n",
        "def evaluate(\n",
        "    model: nn.Module,\n",
        "    metric: torchmetrics.Metric,\n",
        "    data: Data,\n",
        "    mask: torch.Tensor):\n",
        "  \n",
        "    model.eval()  # Deactivate dropout\n",
        "    model.to(device)\n",
        "\n",
        "    with torch.no_grad():\n",
        "        # do a forward pass (i.e. a prediction) of the model on the features\n",
        "        y_pred = model(data.x.to(device))\n",
        "\n",
        "        # cast the float class prediction probabilites to discrete integer predictions\n",
        "        y_pred = y_pred[mask]\n",
        "\n",
        "        # get the ground truth labels\n",
        "        y = data.y[mask].to(device)\n",
        "\n",
        "        # update the petric that evaluates \n",
        "        metric.update(y_pred, y)\n",
        "        #^^^^^^^^^^^^^^^^^^^^^^^^^^^^^^^^^^^^^^^^^^^^^^^^^^^^^^^^^^^^^^^^^^^^^^^\n",
        "\n",
        "    return metric.compute().item()"
      ],
      "metadata": {
        "id": "9HNtLaqpPiCC"
      },
      "execution_count": null,
      "outputs": []
    },
    {
      "cell_type": "code",
      "source": [
        "# define whether we use dropout during training or not\n",
        "dropout = False\n",
        "\n",
        "# Define the Model that will be trained\n",
        "model = MLP(dropout)\n",
        "\n",
        "# define the the learning rate\n",
        "lr = 1 * 1e-2\n",
        "\n",
        "# define the optimization algorithm used in the train of the model\n",
        "optimizer = torch.optim.Adam(model.parameters(), lr=lr)\n",
        "\n",
        "# define the number of epochs in the training loop\n",
        "nb_epochs = 700#50#100\n",
        "\n",
        "# call the training function\n",
        "start_training_time = time.time()\n",
        "losses_ = train(model, data, optimizer, nb_epochs)\n",
        "end_training_time = time.time()\n",
        "\n",
        "# total training time\n",
        "print(f\"Total training time is {(end_training_time - start_training_time) // 60 : .2f} minutes and {(end_training_time - start_training_time) % 60 : .2f} seconds.\")"
      ],
      "metadata": {
        "id": "ZZIjWRQ6SIx8",
        "colab": {
          "base_uri": "https://localhost:8080/"
        },
        "outputId": "9b8545ee-693b-41fb-ae63-a26b80f8854b"
      },
      "execution_count": null,
      "outputs": [
        {
          "output_type": "stream",
          "name": "stdout",
          "text": [
            "Total training time is  15.00 minutes and  21.72 seconds.\n"
          ]
        }
      ]
    },
    {
      "cell_type": "code",
      "source": [
        "# cast losses to the numpy array from the regular list\n",
        "losses_ = np.array(losses_)\n",
        "\n",
        "# plot both losses and cummulative mean of the losses\n",
        "plt.plot(np.log(losses_))\n",
        "plt.title(\"Log Loss over epochs\")\n",
        "plt.xlabel(\"Epochs\")\n",
        "plt.ylabel(\"Log Loss\")\n",
        "#plt.xlim([nb_epochs//2, nb_epochs])"
      ],
      "metadata": {
        "id": "zvn14_Dr3Bw-",
        "colab": {
          "base_uri": "https://localhost:8080/",
          "height": 313
        },
        "outputId": "bdb21758-ed70-48f8-889a-9bcc3392fc98"
      },
      "execution_count": null,
      "outputs": [
        {
          "output_type": "execute_result",
          "data": {
            "text/plain": [
              "Text(0, 0.5, 'Log Loss')"
            ]
          },
          "metadata": {},
          "execution_count": 10
        },
        {
          "output_type": "display_data",
          "data": {
            "text/plain": [
              "<Figure size 432x288 with 1 Axes>"
            ],
            "image/png": "[encoded data removed]"
          },
          "metadata": {
            "needs_background": "light"
          }
        }
      ]
    },
    {
      "cell_type": "markdown",
      "source": [
        "### Notes on the testing:\n",
        "\n",
        "In order to test our results properly, we need to set the option `subset_accuracy=True`. That way, the torchmetrics Accuracy module will only count the output of our neural network as correct if all of the labels were assigned correctly, after thresholding the sigmoid outputs of our MLP. Otherwise, we would obtain a deceptively large accuracy, since the labeled outputs are inbalanced, with most of them being 0."
      ],
      "metadata": {
        "id": "iLusZYrjlXd-"
      }
    },
    {
      "cell_type": "code",
      "source": [
        "metric = torchmetrics.Accuracy(num_classes=num_classes,\n",
        "                               threshold=0.5,\n",
        "                               subset_accuracy=True).to(device)\n",
        "\n",
        "accuracy_train = evaluate(model = model,\n",
        "                          metric = metric,\n",
        "                          data = data,\n",
        "                          mask = data.train_mask)\n",
        "\n",
        "accuracy_val = evaluate(model = model,\n",
        "                        metric = metric,\n",
        "                        data = data,\n",
        "                        mask = data.val_mask)\n",
        "\n",
        "accuracy_test = evaluate(model = model,\n",
        "                        metric = metric,\n",
        "                        data = data,\n",
        "                        mask = data.test_mask)\n",
        "\n",
        "print(\"Train accuracy:\", accuracy_train)\n",
        "print(\"Val accuracy:\", accuracy_val)\n",
        "print(\"Test accuracy:\", accuracy_test)"
      ],
      "metadata": {
        "id": "RejJkjPk6JUS",
        "colab": {
          "base_uri": "https://localhost:8080/"
        },
        "outputId": "be39d5d0-7e0a-430b-ccc7-b03d1f304694"
      },
      "execution_count": null,
      "outputs": [
        {
          "output_type": "stream",
          "name": "stdout",
          "text": [
            "Train accuracy: 0.6426309943199158\n",
            "Val accuracy: 0.6415952444076538\n",
            "Test accuracy: 0.6393341422080994\n"
          ]
        }
      ]
    },
    {
      "cell_type": "markdown",
      "source": [
        "### Results:\n",
        "\n",
        "The MLP trains fairly quickly and has resulted in a surprisingly high accuracy rate, even though it doesn't explicitly exploit any of the underlying network structure. We suspect that this is the case because we have a lot of labeled data (80% of ~1.57M nodes) we can train on. This is also reflected in the fact that the MLP performs very similarly on the Validation and Test nodes as well, indicating that it managed to generalize as well as it architecture allowed it to. To see if we can do better than this, next we will try to use some GNN architectures that will try to embed the structure underlying our data explicitly before training an MLP classifier."
      ],
      "metadata": {
        "id": "o2F4lPUnlOd3"
      }
    },
    {
      "cell_type": "code",
      "source": [
        ""
      ],
      "metadata": {
        "id": "7y8gotYtYlks"
      },
      "execution_count": null,
      "outputs": []
    }
  ]
}